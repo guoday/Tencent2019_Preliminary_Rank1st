{
 "metadata": {
  "language_info": {
   "codemirror_mode": {
    "name": "ipython",
    "version": 3
   },
   "file_extension": ".py",
   "mimetype": "text/x-python",
   "name": "python",
   "nbconvert_exporter": "python",
   "pygments_lexer": "ipython3",
   "version": "3.6.6"
  },
  "orig_nbformat": 2,
  "kernelspec": {
   "name": "python3",
   "display_name": "Python 3.6.6 64-bit",
   "metadata": {
    "interpreter": {
     "hash": "8185b0a4f39b92c69e514520d2d9d7dc664d18802dd476fd1a58e7b3cf02750f"
    }
   }
  }
 },
 "nbformat": 4,
 "nbformat_minor": 2,
 "cells": [
  {
   "cell_type": "code",
   "execution_count": null,
   "metadata": {},
   "outputs": [],
   "source": [
    "import pandas as pd\n",
    "import numpy as np\n",
    "import matplotlib.pyplot as plt\n",
    "from sklearn.preprocessing import LabelEncoder\n",
    "import seaborn as sns\n"
   ]
  },
  {
   "cell_type": "code",
   "execution_count": null,
   "metadata": {},
   "outputs": [],
   "source": [
    "df_log=pd.read_pickle('src/data/testA/totalExposureLog.pkl')\n",
    "# df=pd.read_pickle('src/data/testA/user_data.pkl')\n",
    "df_op=pd.read_pickle('src/data/testA/ad_operation.pkl')\n",
    "df_ad=pd.read_pickle('src/data/testA/ad_static_feature.pkl')\n",
    "df_test=pd.read_pickle('src/data/testA/test_sample.pkl')"
   ]
  },
  {
   "cell_type": "code",
   "execution_count": null,
   "metadata": {},
   "outputs": [],
   "source": [
    "df_log_ad = df_log[['aid', 'request_timestamp']].drop_duplicates()"
   ]
  },
  {
   "cell_type": "code",
   "execution_count": null,
   "metadata": {},
   "outputs": [],
   "source": [
    "df_log_ad['date'] = pd.to_datetime(df_log_ad['request_timestamp'], unit='s').dt.date\n",
    "df_log_ad = df_log_ad[['aid', 'date']].drop_duplicates()\n",
    "df_log_ad['date'].drop_duplicates().nunique()"
   ]
  },
  {
   "cell_type": "code",
   "execution_count": null,
   "metadata": {},
   "outputs": [],
   "source": [
    "df_log_ad_min = df_log_ad.groupby(['aid'])[['date']].min().reset_index()\n",
    "df_log_ad= pd.merge(df_log_ad,df_log_ad_min,on='aid') \n",
    "df_log_ad['date_min'] = df_log_ad['date_y']\n",
    "df_log_ad['date'] = df_log_ad['date_x']\n",
    "df_log_ad['isnew'] = df_log_ad['date'] == df_log_ad['date_min']\n",
    "del df_log_ad['date_x']\n",
    "del df_log_ad['date_y']\n",
    "df_log_ad"
   ]
  },
  {
   "cell_type": "code",
   "execution_count": null,
   "metadata": {},
   "outputs": [],
   "source": [
    "f, ax = plt.subplots(figsize=(15, 5))\n",
    "ax = sns.countplot(data=df_log_ad, x='date')\n",
    "f.autofmt_xdate()\n"
   ]
  },
  {
   "cell_type": "code",
   "execution_count": null,
   "metadata": {},
   "outputs": [],
   "source": [
    "f, ax = plt.subplots(figsize=(15, 5))\n",
    "ax = sns.histplot(data=df_log_ad, x=\"date\",hue=\"isnew\", multiple=\"stack\")\n",
    "f.autofmt_xdate()"
   ]
  },
  {
   "cell_type": "code",
   "execution_count": null,
   "metadata": {},
   "outputs": [],
   "source": [
    "df_log_ad.nunique()"
   ]
  },
  {
   "cell_type": "code",
   "execution_count": null,
   "metadata": {},
   "outputs": [],
   "source": [
    "# 广告静态数据\n",
    "df_ad['create_date'] = pd.to_datetime(df_ad['create_timestamp'], unit='s').dt.date\n",
    "df_ad.nunique()"
   ]
  },
  {
   "cell_type": "code",
   "execution_count": null,
   "metadata": {},
   "outputs": [],
   "source": [
    "df_ad_log = pd.merge(df_ad,df_log_ad,on='aid') \r\n",
    "df_ad_log.nunique()"
   ]
  },
  {
   "cell_type": "code",
   "execution_count": null,
   "metadata": {},
   "outputs": [],
   "source": [
    "# 广告操作数据\n",
    "df_op=pd.read_pickle('src/data/testA/ad_operation.pkl')\n",
    "df_op_ad = pd.merge(df_op,df_ad_log,on='aid') "
   ]
  },
  {
   "cell_type": "code",
   "execution_count": null,
   "metadata": {},
   "outputs": [],
   "source": [
    "df_op_ad.nunique()"
   ]
  },
  {
   "cell_type": "code",
   "execution_count": null,
   "metadata": {},
   "outputs": [],
   "source": [
    "df_op_ad['create_time'] = pd.to_datetime(df_op_ad['create_timestamp'], unit='s')\n",
    "df_op_ad['motify_time'] = df_op_ad.apply(lambda x: x['request_time'] if x['type'] == 1 else x['create_time'], axis=1)"
   ]
  },
  {
   "cell_type": "code",
   "execution_count": null,
   "metadata": {},
   "outputs": [],
   "source": [
    "df_op_ex = df_op_ad[['aid','create_time','motify_time','type','op_type','value']].drop_duplicates().reset_index()[['aid','create_time','motify_time','type','op_type','value']]"
   ]
  },
  {
   "cell_type": "code",
   "execution_count": null,
   "metadata": {},
   "outputs": [],
   "source": [
    "df_op_ex.to_pickle('src/data/testA/ad_operation_filter_extend.pkl')"
   ]
  },
  {
   "cell_type": "code",
   "execution_count": null,
   "metadata": {},
   "outputs": [],
   "source": [
    "df_op"
   ]
  },
  {
   "cell_type": "code",
   "execution_count": null,
   "metadata": {},
   "outputs": [],
   "source": [
    "#更改广告状态\n",
    "df_op_status = df_op_ex[df_op_ex['op_type'] == 1]\n",
    "df_op_status.to_pickle('src/data/testA/ad_operation_filter_status.pkl')"
   ]
  },
  {
   "cell_type": "code",
   "execution_count": null,
   "metadata": {},
   "outputs": [],
   "source": [
    "df_op_status['motify_date'] = df_op_status['motify_time'].dt.date\n",
    "f, ax = plt.subplots(figsize=(15, 5))\n",
    "ax = sns.histplot(data=df_op_status[df_op_status['motify_date'] > pd.to_datetime('1970-01-01')], x=\"motify_date\",hue=\"value\", multiple=\"stack\")\n",
    "f.autofmt_xdate()"
   ]
  },
  {
   "cell_type": "code",
   "execution_count": null,
   "metadata": {},
   "outputs": [],
   "source": [
    "df_op_status['time'] = df_op_status['motify_time'].dt.hour\n",
    "f, ax = plt.subplots(figsize=(15, 5))\n",
    "ax = sns.histplot(data=df_op_status[df_op_status['motify_time'] > pd.to_datetime('2019-02-16')], x=\"time\",hue=\"value\", multiple=\"stack\")"
   ]
  },
  {
   "cell_type": "code",
   "execution_count": null,
   "metadata": {},
   "outputs": [],
   "source": [
    "#更改出价\n",
    "df_op_bid = df_op_ex[df_op_ex['op_type'] == 2]\n",
    "df_op_bid.to_pickle('src/data/testA/ad_operation_filter_bid.pkl')\n",
    "df_op_bid = pd.read_pickle('src/data/testA/ad_operation_filter_bid.pkl')"
   ]
  },
  {
   "cell_type": "code",
   "execution_count": null,
   "metadata": {},
   "outputs": [],
   "source": [
    "df_op_bid['bid'] = pd.to_numeric(df_op_bid['value'])"
   ]
  },
  {
   "cell_type": "code",
   "execution_count": null,
   "metadata": {},
   "outputs": [],
   "source": [
    "df_op_bid['motify_date'] = df_op_bid['motify_time'].dt.date\n",
    "f, ax = plt.subplots(figsize=(15, 5))\n",
    "ax = sns.histplot(data=df_op_bid[df_op_bid['motify_date'] > pd.to_datetime('1970-01-01')],x='bid',log_scale=True )\n"
   ]
  },
  {
   "cell_type": "code",
   "execution_count": null,
   "metadata": {},
   "outputs": [],
   "source": [
    "df_op_bid"
   ]
  },
  {
   "cell_type": "code",
   "execution_count": null,
   "metadata": {},
   "outputs": [],
   "source": [
    "df_op_bid['motify_date'] = df_op_bid['motify_time'].dt.date\n",
    "df_op_bid_nor = df_op_bid[df_op_bid['motify_date'] > pd.to_datetime('2019-03-10')]\n",
    "bid_counts = df_op_bid_nor.groupby(['motify_date','aid'])['value'].nunique().reset_index()\n",
    "f, ax = plt.subplots(figsize=(15, 5))\n",
    "ax = sns.violinplot(data=bid_counts,x='motify_date',y='value')\n",
    "f.autofmt_xdate()"
   ]
  },
  {
   "cell_type": "code",
   "execution_count": null,
   "metadata": {},
   "outputs": [],
   "source": [
    "bid_counts"
   ]
  },
  {
   "cell_type": "code",
   "execution_count": null,
   "metadata": {},
   "outputs": [],
   "source": [
    "df_op_bid_nor"
   ]
  },
  {
   "cell_type": "code",
   "execution_count": null,
   "metadata": {},
   "outputs": [],
   "source": [
    "#更改投放时段\n",
    "df_op_periods = df_op_ex[df_op_ex['op_type'] == 4]\n",
    "df_op_periods.to_pickle('src/data/testA/ad_operation_filter_periods.pkl')"
   ]
  },
  {
   "cell_type": "code",
   "execution_count": null,
   "metadata": {},
   "outputs": [],
   "source": [
    "df_op_periods"
   ]
  },
  {
   "cell_type": "code",
   "execution_count": null,
   "metadata": {},
   "outputs": [],
   "source": [
    "#更改人群定向\n",
    "df_op_crowd = df_op_ex[df_op_ex['op_type'] == 3]\n",
    "df_op_crowd.to_pickle('src/data/testA/ad_operation_filter_crowd.pkl')"
   ]
  },
  {
   "cell_type": "code",
   "execution_count": null,
   "metadata": {},
   "outputs": [],
   "source": [
    "df_test.info()"
   ]
  },
  {
   "cell_type": "code",
   "execution_count": null,
   "metadata": {},
   "outputs": [],
   "source": [
    "df_test_op_bid = pd.merge(df_test,df_op_bid,on=['aid'],how='left') \n",
    "df_test_op_bid"
   ]
  },
  {
   "cell_type": "code",
   "execution_count": null,
   "metadata": {},
   "outputs": [],
   "source": [
    "df_test_op_bid.isnull().any(axis=1).sum()"
   ]
  },
  {
   "cell_type": "code",
   "execution_count": null,
   "metadata": {},
   "outputs": [],
   "source": []
  }
 ]
}