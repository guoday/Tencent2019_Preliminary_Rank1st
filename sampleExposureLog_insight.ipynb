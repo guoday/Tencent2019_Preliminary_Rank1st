{
 "metadata": {
  "language_info": {
   "codemirror_mode": {
    "name": "ipython",
    "version": 3
   },
   "file_extension": ".py",
   "mimetype": "text/x-python",
   "name": "python",
   "nbconvert_exporter": "python",
   "pygments_lexer": "ipython3",
   "version": "3.6.6-final"
  },
  "orig_nbformat": 2,
  "kernelspec": {
   "name": "python3",
   "display_name": "Python 3.6.6 64-bit",
   "metadata": {
    "interpreter": {
     "hash": "8185b0a4f39b92c69e514520d2d9d7dc664d18802dd476fd1a58e7b3cf02750f"
    }
   }
  }
 },
 "nbformat": 4,
 "nbformat_minor": 2,
 "cells": [
  {
   "cell_type": "code",
   "execution_count": 3,
   "metadata": {},
   "outputs": [],
   "source": [
    "import pandas as pd\n",
    "import numpy as np\n",
    "import matplotlib.pyplot as plt\n",
    "from sklearn.preprocessing import LabelEncoder\n",
    "import seaborn as sns\n",
    " \n",
    "%matplotlib inline\n",
    "df=pd.read_pickle('src/data/testA/sample_totalExposureLog.pkl')"
   ]
  },
  {
   "cell_type": "code",
   "execution_count": 5,
   "metadata": {},
   "outputs": [
    {
     "output_type": "stream",
     "name": "stdout",
     "text": [
      "<class 'pandas.core.frame.DataFrame'>\nInt64Index: 1023721 entries, 92190472 to 43955996\nData columns (total 10 columns):\n #   Column             Non-Null Count    Dtype  \n---  ------             --------------    -----  \n 0   id                 1023721 non-null  int32  \n 1   request_timestamp  1023721 non-null  int32  \n 2   position           1023721 non-null  int32  \n 3   uid                1023721 non-null  int32  \n 4   aid                1023721 non-null  int32  \n 5   imp_ad_size        1023721 non-null  int32  \n 6   bid                1023721 non-null  float64\n 7   pctr               1023721 non-null  float64\n 8   quality_ecpm       1023721 non-null  float64\n 9   totalEcpm          1023721 non-null  float64\ndtypes: float64(4), int32(6)\nmemory usage: 62.5 MB\n"
     ]
    }
   ],
   "source": [
    "df.info()"
   ]
  },
  {
   "cell_type": "code",
   "execution_count": 8,
   "metadata": {},
   "outputs": [
    {
     "output_type": "execute_result",
     "data": {
      "text/plain": [
       "                  id  request_timestamp       position            uid  \\\n",
       "count  363335.000000      363335.000000  363335.000000  363335.000000   \n",
       "mean        2.817568           2.817568       2.817568       2.817568   \n",
       "std         5.987182           5.987182       5.987182       5.987182   \n",
       "min         1.000000           1.000000       1.000000       1.000000   \n",
       "25%         1.000000           1.000000       1.000000       1.000000   \n",
       "50%         1.000000           1.000000       1.000000       1.000000   \n",
       "75%         2.000000           2.000000       2.000000       2.000000   \n",
       "max       374.000000         374.000000     374.000000     374.000000   \n",
       "\n",
       "         imp_ad_size            bid           pctr   quality_ecpm  \\\n",
       "count  363335.000000  363335.000000  363335.000000  363335.000000   \n",
       "mean        2.817568       2.817568       2.817568       2.817568   \n",
       "std         5.987182       5.987182       5.987182       5.987182   \n",
       "min         1.000000       1.000000       1.000000       1.000000   \n",
       "25%         1.000000       1.000000       1.000000       1.000000   \n",
       "50%         1.000000       1.000000       1.000000       1.000000   \n",
       "75%         2.000000       2.000000       2.000000       2.000000   \n",
       "max       374.000000     374.000000     374.000000     374.000000   \n",
       "\n",
       "           totalEcpm  \n",
       "count  363335.000000  \n",
       "mean        2.817568  \n",
       "std         5.987182  \n",
       "min         1.000000  \n",
       "25%         1.000000  \n",
       "50%         1.000000  \n",
       "75%         2.000000  \n",
       "max       374.000000  "
      ],
      "text/html": "<div>\n<style scoped>\n    .dataframe tbody tr th:only-of-type {\n        vertical-align: middle;\n    }\n\n    .dataframe tbody tr th {\n        vertical-align: top;\n    }\n\n    .dataframe thead th {\n        text-align: right;\n    }\n</style>\n<table border=\"1\" class=\"dataframe\">\n  <thead>\n    <tr style=\"text-align: right;\">\n      <th></th>\n      <th>id</th>\n      <th>request_timestamp</th>\n      <th>position</th>\n      <th>uid</th>\n      <th>imp_ad_size</th>\n      <th>bid</th>\n      <th>pctr</th>\n      <th>quality_ecpm</th>\n      <th>totalEcpm</th>\n    </tr>\n  </thead>\n  <tbody>\n    <tr>\n      <th>count</th>\n      <td>363335.000000</td>\n      <td>363335.000000</td>\n      <td>363335.000000</td>\n      <td>363335.000000</td>\n      <td>363335.000000</td>\n      <td>363335.000000</td>\n      <td>363335.000000</td>\n      <td>363335.000000</td>\n      <td>363335.000000</td>\n    </tr>\n    <tr>\n      <th>mean</th>\n      <td>2.817568</td>\n      <td>2.817568</td>\n      <td>2.817568</td>\n      <td>2.817568</td>\n      <td>2.817568</td>\n      <td>2.817568</td>\n      <td>2.817568</td>\n      <td>2.817568</td>\n      <td>2.817568</td>\n    </tr>\n    <tr>\n      <th>std</th>\n      <td>5.987182</td>\n      <td>5.987182</td>\n      <td>5.987182</td>\n      <td>5.987182</td>\n      <td>5.987182</td>\n      <td>5.987182</td>\n      <td>5.987182</td>\n      <td>5.987182</td>\n      <td>5.987182</td>\n    </tr>\n    <tr>\n      <th>min</th>\n      <td>1.000000</td>\n      <td>1.000000</td>\n      <td>1.000000</td>\n      <td>1.000000</td>\n      <td>1.000000</td>\n      <td>1.000000</td>\n      <td>1.000000</td>\n      <td>1.000000</td>\n      <td>1.000000</td>\n    </tr>\n    <tr>\n      <th>25%</th>\n      <td>1.000000</td>\n      <td>1.000000</td>\n      <td>1.000000</td>\n      <td>1.000000</td>\n      <td>1.000000</td>\n      <td>1.000000</td>\n      <td>1.000000</td>\n      <td>1.000000</td>\n      <td>1.000000</td>\n    </tr>\n    <tr>\n      <th>50%</th>\n      <td>1.000000</td>\n      <td>1.000000</td>\n      <td>1.000000</td>\n      <td>1.000000</td>\n      <td>1.000000</td>\n      <td>1.000000</td>\n      <td>1.000000</td>\n      <td>1.000000</td>\n      <td>1.000000</td>\n    </tr>\n    <tr>\n      <th>75%</th>\n      <td>2.000000</td>\n      <td>2.000000</td>\n      <td>2.000000</td>\n      <td>2.000000</td>\n      <td>2.000000</td>\n      <td>2.000000</td>\n      <td>2.000000</td>\n      <td>2.000000</td>\n      <td>2.000000</td>\n    </tr>\n    <tr>\n      <th>max</th>\n      <td>374.000000</td>\n      <td>374.000000</td>\n      <td>374.000000</td>\n      <td>374.000000</td>\n      <td>374.000000</td>\n      <td>374.000000</td>\n      <td>374.000000</td>\n      <td>374.000000</td>\n      <td>374.000000</td>\n    </tr>\n  </tbody>\n</table>\n</div>"
     },
     "metadata": {},
     "execution_count": 8
    }
   ],
   "source": [
    "df['request_day']=df['request_timestamp']//(3600*24)\n",
    "df.groupby(['aid','request_day']).count().describe()"
   ]
  }
 ]
}