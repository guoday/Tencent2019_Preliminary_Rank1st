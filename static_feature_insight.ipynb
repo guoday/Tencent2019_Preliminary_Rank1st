{
 "metadata": {
  "language_info": {
   "codemirror_mode": {
    "name": "ipython",
    "version": 3
   },
   "file_extension": ".py",
   "mimetype": "text/x-python",
   "name": "python",
   "nbconvert_exporter": "python",
   "pygments_lexer": "ipython3",
   "version": "3.6.6"
  },
  "orig_nbformat": 2,
  "kernelspec": {
   "name": "python3",
   "display_name": "Python 3.6.6 64-bit",
   "metadata": {
    "interpreter": {
     "hash": "8185b0a4f39b92c69e514520d2d9d7dc664d18802dd476fd1a58e7b3cf02750f"
    }
   }
  }
 },
 "nbformat": 4,
 "nbformat_minor": 2,
 "cells": [
  {
   "cell_type": "code",
   "execution_count": null,
   "metadata": {},
   "outputs": [],
   "source": [
    "import pandas as pd\n",
    "import numpy as np\n",
    "# df_log=pd.read_pickle('src/data/testA/totalExposureLog.pkl')\n",
    "# df=pd.read_pickle('src/data/testA/user_data.pkl')\n",
    "# df=pd.read_pickle('src/data/testA/ad_operation.pkl')\n",
    "df=pd.read_pickle('src/data/testA/ad_static_feature.pkl')\n",
    "# df=pd.read_pickle('src/data/testA/test_sample.pkl')"
   ]
  },
  {
   "cell_type": "code",
   "execution_count": null,
   "metadata": {},
   "outputs": [],
   "source": [
    "df"
   ]
  },
  {
   "cell_type": "code",
   "execution_count": null,
   "metadata": {},
   "outputs": [],
   "source": [
    "df.info()"
   ]
  },
  {
   "cell_type": "code",
   "execution_count": null,
   "metadata": {},
   "outputs": [],
   "source": [
    "df[['advertiser','good_id','good_type','ad_type_id','ad_size']].describe()"
   ]
  },
  {
   "cell_type": "code",
   "execution_count": null,
   "metadata": {},
   "outputs": [],
   "source": [
    "df.isnull().any(axis=0)# 查看各列是否存在空值，True表示有空值,axis=0代表是查看列，axis=1是查看行是否存在控制"
   ]
  },
  {
   "cell_type": "code",
   "execution_count": null,
   "metadata": {},
   "outputs": [],
   "source": [
    "df.isnull().any(axis=0).sum()#计算含有空值的列数，若把axis=0改成axis=1，则是计算含有空值的行数"
   ]
  },
  {
   "cell_type": "code",
   "execution_count": null,
   "metadata": {},
   "outputs": [],
   "source": [
    "df['ad_size'].isnull().sum()#将某一列中为空或者NA的个数统计出来，把column_name改成字段名"
   ]
  },
  {
   "source": [
    "缺失值有三种常用的处理方法，分别是删除法、替换法、插补法。\n",
    "\n",
    "2.11 删除法\n",
    "删除法可以通过删除观测样本或者删除变量来实现。删除法适用于变量有较大缺失且对研究目标影响不大的情况。如果删除了之后应该很多不建议用删除法。在kaggle中有人这样处理缺失数据，如果数据的缺失达到15%，且并没有发现该变量有多大作用，就删除该变量。\n",
    "\n",
    "`del data['column_name'] #删除某一列`<br>\n",
    "`data['column_name'].dropna()   #删除某一行为空值或者NA的元素`<br>\n",
    "`data.drop(data.columns[[0,1]],axis=1,inplace=True)  #删除第1，2列，inplace=True表示直接就在内存中替换了，不用二次赋值生效。`<br>\n",
    "`data.dropna(axis=0)         #删除带有空值的行 `<br>\n",
    "`data.dropna(axis=1)        #删除带有空值的列 `<br>\n",
    "\n",
    "\n",
    "2.12 替换法\n",
    "如果缺失值所在变量为数值型，一般用均值来替换；如果为非数值型变量，则使用中位数或者是众数来替换。\n",
    "\n",
    "`data['column_name']=data['column_name'].fillna(num) #将该列中的空值或者NA填充为num.其中num是某位数字，这个代码用于用数字进行替换。`<br>\n",
    "`data['column_name'][data['column_name'].isnull()]=data['column_name'].dropna().mode().values#如果该列是字符串的，就将该列中出现次数最多的字符串赋予空值,mode()函数就是取出现次数最多的元素`<br>\n",
    "`data['column_name'].fillna(method='pad') #使用前一个数值替代空值或者NA，就是NA前面最近的非空数值替换`<br>\n",
    "`data['column_name'].fillna(method='bfill',limit=1)　#使用后一个数值替代空值或者NA，limit=1就是限制如果几个连续的空值，只能最近的一个空值可以被填充。`<br>\n",
    "`data['column_name'].fillna(data['column_name'].mean()) #使用平均值进行填充`<br>\n",
    "`data= data.fillna(data.mean()) #将缺失值全部用该列的平均值代替，这个时候一般已经提前将字符串特征转换成了数值。`<br>\n",
    "\n",
    "2.13 插补法\n",
    "使用删除法和替换法有时会存在信息浪费的问题且数据结构会发生变动，以致最后得到有偏的统计结果。用插补法可以很轻松地解决此类问题。常用的插补法有回归插补，多重插补、拉格朗日插补法等。这里就不插入代码了，这个要看情况而选择插补。\n",
    "拉格朗日插值法参考：https://blog.csdn.net/sinat_22510827/article/details/80972389\n"
   ],
   "cell_type": "markdown",
   "metadata": {}
  },
  {
   "cell_type": "code",
   "execution_count": null,
   "metadata": {},
   "outputs": [],
   "source": [
    "import matplotlib.pyplot as plt\n",
    "plt.boxplot(df['good_type'],vert = False)#箱线图\n",
    "plt.show()\n",
    "plt.plot(df['good_id'], df['good_type'], 'o', color='black')#散点图\n",
    "df['good_type'].describe()#描述性统计"
   ]
  },
  {
   "cell_type": "code",
   "execution_count": null,
   "metadata": {},
   "outputs": [],
   "source": [
    "\n",
    "def count_box(Q_3,Q_1):#Q_3为75%分位数（第三四分位数），Q_1为25%分位数（第一四分位数）\n",
    "    IQR=Q_3-Q_1\n",
    "    down_line=Q_1-1.5*IQR\n",
    "    up_line=Q_3+1.5*IQR\n",
    "    print(\"异常值上限:\",up_line,\" 异常值下限：\",down_line)\n",
    "count_box(18,3)"
   ]
  }
 ]
}