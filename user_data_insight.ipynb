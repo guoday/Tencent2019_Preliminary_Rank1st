{
 "metadata": {
  "language_info": {
   "codemirror_mode": {
    "name": "ipython",
    "version": 3
   },
   "file_extension": ".py",
   "mimetype": "text/x-python",
   "name": "python",
   "nbconvert_exporter": "python",
   "pygments_lexer": "ipython3",
   "version": "3.6.6"
  },
  "orig_nbformat": 2,
  "kernelspec": {
   "name": "python3",
   "display_name": "Python 3.6.6 64-bit",
   "metadata": {
    "interpreter": {
     "hash": "8185b0a4f39b92c69e514520d2d9d7dc664d18802dd476fd1a58e7b3cf02750f"
    }
   }
  }
 },
 "nbformat": 4,
 "nbformat_minor": 2,
 "cells": [
  {
   "cell_type": "code",
   "execution_count": 3,
   "metadata": {},
   "outputs": [],
   "source": [
    "import pandas as pd\n",
    "import numpy as np\n",
    "# df_log=pd.read_pickle('src/data/testA/totalExposureLog.pkl')\n",
    "df=pd.read_pickle('src/data/testA/user_data.pkl')\n",
    "# df=pd.read_pickle('src/data/testA/ad_operation.pkl')\n",
    "# df=pd.read_pickle('src/data/testA/ad_static_feature.pkl')\n",
    "# df=pd.read_pickle('src/data/testA/test_sample.pkl')"
   ]
  },
  {
   "cell_type": "code",
   "execution_count": 4,
   "metadata": {},
   "outputs": [
    {
     "output_type": "execute_result",
     "data": {
      "text/plain": [
       "             uid  age  gender  \\\n",
       "0         624218  753       2   \n",
       "1         271475  601       3   \n",
       "2          44439  819       3   \n",
       "3         863717    1       2   \n",
       "4        1305469  714       3   \n",
       "...          ...  ...     ...   \n",
       "1396713   326953  821       2   \n",
       "1396714  1155349  217       3   \n",
       "1396715   379682  787       2   \n",
       "1396716   774233  787       3   \n",
       "1396717   776036  287       3   \n",
       "\n",
       "                                                      area status  education  \\\n",
       "0        523 7589 12527 9019 14605 13489 302 6222 14214...      0          6   \n",
       "1        9019 9032 663 12527 14532 2416 2599 1987 9687 ...     13          7   \n",
       "2        12527 14188 9841 9019 14605 6222 9962 6643 172...     13          7   \n",
       "3        12527 3435 2398 11069 1292 9019 14605 14348 62...      6          5   \n",
       "4        8928 9019 1540 719 12527 6051 10545 12118 7107...     13          5   \n",
       "...                                                    ...    ...        ...   \n",
       "1396713  3836 9594 12527 3435 9931 678 9019 14605 2811 ...      0          6   \n",
       "1396714  9019 13905 5943 10005 10949 12527 1939 10479 4...      0          6   \n",
       "1396715  6675 5266 12527 3435 12865 9019 14605 651 6222...      0          6   \n",
       "1396716  5266 8246 12527 3435 9019 14605 6222 6643 7260...      0          6   \n",
       "1396717  10842 9957 12527 8209 9019 14605 -1 1231 8595 ...      0          6   \n",
       "\n",
       "         concuptionAbility  os work  connectionType  \\\n",
       "0                        1   2    0               4   \n",
       "1                        2   2    0               2   \n",
       "2                        3   2    4               4   \n",
       "3                        3   2    0               2   \n",
       "4                        3   2    0               2   \n",
       "...                    ...  ..  ...             ...   \n",
       "1396713                  1   2    0               2   \n",
       "1396714                  1   2    0               2   \n",
       "1396715                  1   2    0               4   \n",
       "1396716                  1   2    0               2   \n",
       "1396717                  1   2    0               3   \n",
       "\n",
       "                                                  behavior  consuptionAbility  \n",
       "0        32612 34406 3413 33059 4275 4667 4561 34051 42...                  1  \n",
       "1        4990 4992 3413 33061 4115 4876 2393 34167 3441...                  2  \n",
       "2        3099 4403 34414 431 34415 5108 31686 3240 3229...                  3  \n",
       "3        34293 845 3413 3099 33061 33059 4120 4410 4415...                  3  \n",
       "4        32612 34289 34406 3413 4275 4410 4561 34051 34...                  3  \n",
       "...                                                    ...                ...  \n",
       "1396713  34409 34289 34406 32299 3413 3099 4414 4667 50...                  1  \n",
       "1396714  2524 34414 34416 4398 32001 34415 32005 2383 3...                  1  \n",
       "1396715  34406 2377 3413 34051 34414 34047 32005 2674 3...                  1  \n",
       "1396716  34406 34295 32606 32461 3413 4275 4561 4115 50...                  1  \n",
       "1396717  406 3398 15153 29372 15709 41353 42021 14917 2...                  1  \n",
       "\n",
       "[1396718 rows x 12 columns]"
      ],
      "text/html": "<div>\n<style scoped>\n    .dataframe tbody tr th:only-of-type {\n        vertical-align: middle;\n    }\n\n    .dataframe tbody tr th {\n        vertical-align: top;\n    }\n\n    .dataframe thead th {\n        text-align: right;\n    }\n</style>\n<table border=\"1\" class=\"dataframe\">\n  <thead>\n    <tr style=\"text-align: right;\">\n      <th></th>\n      <th>uid</th>\n      <th>age</th>\n      <th>gender</th>\n      <th>area</th>\n      <th>status</th>\n      <th>education</th>\n      <th>concuptionAbility</th>\n      <th>os</th>\n      <th>work</th>\n      <th>connectionType</th>\n      <th>behavior</th>\n      <th>consuptionAbility</th>\n    </tr>\n  </thead>\n  <tbody>\n    <tr>\n      <th>0</th>\n      <td>624218</td>\n      <td>753</td>\n      <td>2</td>\n      <td>523 7589 12527 9019 14605 13489 302 6222 14214...</td>\n      <td>0</td>\n      <td>6</td>\n      <td>1</td>\n      <td>2</td>\n      <td>0</td>\n      <td>4</td>\n      <td>32612 34406 3413 33059 4275 4667 4561 34051 42...</td>\n      <td>1</td>\n    </tr>\n    <tr>\n      <th>1</th>\n      <td>271475</td>\n      <td>601</td>\n      <td>3</td>\n      <td>9019 9032 663 12527 14532 2416 2599 1987 9687 ...</td>\n      <td>13</td>\n      <td>7</td>\n      <td>2</td>\n      <td>2</td>\n      <td>0</td>\n      <td>2</td>\n      <td>4990 4992 3413 33061 4115 4876 2393 34167 3441...</td>\n      <td>2</td>\n    </tr>\n    <tr>\n      <th>2</th>\n      <td>44439</td>\n      <td>819</td>\n      <td>3</td>\n      <td>12527 14188 9841 9019 14605 6222 9962 6643 172...</td>\n      <td>13</td>\n      <td>7</td>\n      <td>3</td>\n      <td>2</td>\n      <td>4</td>\n      <td>4</td>\n      <td>3099 4403 34414 431 34415 5108 31686 3240 3229...</td>\n      <td>3</td>\n    </tr>\n    <tr>\n      <th>3</th>\n      <td>863717</td>\n      <td>1</td>\n      <td>2</td>\n      <td>12527 3435 2398 11069 1292 9019 14605 14348 62...</td>\n      <td>6</td>\n      <td>5</td>\n      <td>3</td>\n      <td>2</td>\n      <td>0</td>\n      <td>2</td>\n      <td>34293 845 3413 3099 33061 33059 4120 4410 4415...</td>\n      <td>3</td>\n    </tr>\n    <tr>\n      <th>4</th>\n      <td>1305469</td>\n      <td>714</td>\n      <td>3</td>\n      <td>8928 9019 1540 719 12527 6051 10545 12118 7107...</td>\n      <td>13</td>\n      <td>5</td>\n      <td>3</td>\n      <td>2</td>\n      <td>0</td>\n      <td>2</td>\n      <td>32612 34289 34406 3413 4275 4410 4561 34051 34...</td>\n      <td>3</td>\n    </tr>\n    <tr>\n      <th>...</th>\n      <td>...</td>\n      <td>...</td>\n      <td>...</td>\n      <td>...</td>\n      <td>...</td>\n      <td>...</td>\n      <td>...</td>\n      <td>...</td>\n      <td>...</td>\n      <td>...</td>\n      <td>...</td>\n      <td>...</td>\n    </tr>\n    <tr>\n      <th>1396713</th>\n      <td>326953</td>\n      <td>821</td>\n      <td>2</td>\n      <td>3836 9594 12527 3435 9931 678 9019 14605 2811 ...</td>\n      <td>0</td>\n      <td>6</td>\n      <td>1</td>\n      <td>2</td>\n      <td>0</td>\n      <td>2</td>\n      <td>34409 34289 34406 32299 3413 3099 4414 4667 50...</td>\n      <td>1</td>\n    </tr>\n    <tr>\n      <th>1396714</th>\n      <td>1155349</td>\n      <td>217</td>\n      <td>3</td>\n      <td>9019 13905 5943 10005 10949 12527 1939 10479 4...</td>\n      <td>0</td>\n      <td>6</td>\n      <td>1</td>\n      <td>2</td>\n      <td>0</td>\n      <td>2</td>\n      <td>2524 34414 34416 4398 32001 34415 32005 2383 3...</td>\n      <td>1</td>\n    </tr>\n    <tr>\n      <th>1396715</th>\n      <td>379682</td>\n      <td>787</td>\n      <td>2</td>\n      <td>6675 5266 12527 3435 12865 9019 14605 651 6222...</td>\n      <td>0</td>\n      <td>6</td>\n      <td>1</td>\n      <td>2</td>\n      <td>0</td>\n      <td>4</td>\n      <td>34406 2377 3413 34051 34414 34047 32005 2674 3...</td>\n      <td>1</td>\n    </tr>\n    <tr>\n      <th>1396716</th>\n      <td>774233</td>\n      <td>787</td>\n      <td>3</td>\n      <td>5266 8246 12527 3435 9019 14605 6222 6643 7260...</td>\n      <td>0</td>\n      <td>6</td>\n      <td>1</td>\n      <td>2</td>\n      <td>0</td>\n      <td>2</td>\n      <td>34406 34295 32606 32461 3413 4275 4561 4115 50...</td>\n      <td>1</td>\n    </tr>\n    <tr>\n      <th>1396717</th>\n      <td>776036</td>\n      <td>287</td>\n      <td>3</td>\n      <td>10842 9957 12527 8209 9019 14605 -1 1231 8595 ...</td>\n      <td>0</td>\n      <td>6</td>\n      <td>1</td>\n      <td>2</td>\n      <td>0</td>\n      <td>3</td>\n      <td>406 3398 15153 29372 15709 41353 42021 14917 2...</td>\n      <td>1</td>\n    </tr>\n  </tbody>\n</table>\n<p>1396718 rows × 12 columns</p>\n</div>"
     },
     "metadata": {},
     "execution_count": 4
    }
   ],
   "source": [
    "df"
   ]
  },
  {
   "cell_type": "code",
   "execution_count": 5,
   "metadata": {},
   "outputs": [
    {
     "output_type": "execute_result",
     "data": {
      "text/plain": [
       "uid                  1396718\n",
       "age                       92\n",
       "gender                     3\n",
       "area                  708457\n",
       "status                   533\n",
       "education                  8\n",
       "concuptionAbility          3\n",
       "os                         4\n",
       "work                      20\n",
       "connectionType             5\n",
       "behavior             1381728\n",
       "consuptionAbility          3\n",
       "dtype: int64"
      ]
     },
     "metadata": {},
     "execution_count": 5
    }
   ],
   "source": [
    "df.nunique()"
   ]
  },
  {
   "cell_type": "code",
   "execution_count": 6,
   "metadata": {},
   "outputs": [
    {
     "output_type": "stream",
     "name": "stdout",
     "text": [
      "<class 'pandas.core.frame.DataFrame'>\nRangeIndex: 1396718 entries, 0 to 1396717\nData columns (total 12 columns):\n #   Column             Non-Null Count    Dtype \n---  ------             --------------    ----- \n 0   uid                1396718 non-null  int32 \n 1   age                1396718 non-null  int32 \n 2   gender             1396718 non-null  int32 \n 3   area               1396718 non-null  object\n 4   status             1396718 non-null  object\n 5   education          1396718 non-null  int32 \n 6   concuptionAbility  1396718 non-null  int64 \n 7   os                 1396718 non-null  int32 \n 8   work               1396718 non-null  object\n 9   connectionType     1396718 non-null  int32 \n 10  behavior           1396718 non-null  object\n 11  consuptionAbility  1396718 non-null  int32 \ndtypes: int32(7), int64(1), object(4)\nmemory usage: 90.6+ MB\n"
     ]
    }
   ],
   "source": [
    "df.info()"
   ]
  },
  {
   "cell_type": "code",
   "execution_count": 7,
   "metadata": {},
   "outputs": [
    {
     "output_type": "execute_result",
     "data": {
      "text/plain": [
       "                uid           age        gender     education  \\\n",
       "count  1.396718e+06  1.396718e+06  1.396718e+06  1.396718e+06   \n",
       "mean   6.983595e+05  5.263470e+02  2.499745e+00  4.779004e+00   \n",
       "std    4.031979e+05  2.806423e+02  5.654588e-01  2.086811e+00   \n",
       "min    1.000000e+00  0.000000e+00  1.000000e+00  1.000000e+00   \n",
       "25%    3.491802e+05  3.330000e+02  2.000000e+00  2.000000e+00   \n",
       "50%    6.983595e+05  5.360000e+02  3.000000e+00  5.000000e+00   \n",
       "75%    1.047539e+06  7.870000e+02  3.000000e+00  6.000000e+00   \n",
       "max    1.396718e+06  9.880000e+02  3.000000e+00  8.000000e+00   \n",
       "\n",
       "       concuptionAbility            os  connectionType  consuptionAbility  \n",
       "count       1.396718e+06  1.396718e+06    1.396718e+06       1.396718e+06  \n",
       "mean        2.161956e+00  2.186646e+00    2.817688e+00       2.161956e+00  \n",
       "std         8.310177e-01  3.951378e-01    1.025974e+00       8.310177e-01  \n",
       "min         1.000000e+00  0.000000e+00    1.000000e+00       1.000000e+00  \n",
       "25%         1.000000e+00  2.000000e+00    2.000000e+00       1.000000e+00  \n",
       "50%         2.000000e+00  2.000000e+00    2.000000e+00       2.000000e+00  \n",
       "75%         3.000000e+00  2.000000e+00    4.000000e+00       3.000000e+00  \n",
       "max         3.000000e+00  4.000000e+00    5.000000e+00       3.000000e+00  "
      ],
      "text/html": "<div>\n<style scoped>\n    .dataframe tbody tr th:only-of-type {\n        vertical-align: middle;\n    }\n\n    .dataframe tbody tr th {\n        vertical-align: top;\n    }\n\n    .dataframe thead th {\n        text-align: right;\n    }\n</style>\n<table border=\"1\" class=\"dataframe\">\n  <thead>\n    <tr style=\"text-align: right;\">\n      <th></th>\n      <th>uid</th>\n      <th>age</th>\n      <th>gender</th>\n      <th>education</th>\n      <th>concuptionAbility</th>\n      <th>os</th>\n      <th>connectionType</th>\n      <th>consuptionAbility</th>\n    </tr>\n  </thead>\n  <tbody>\n    <tr>\n      <th>count</th>\n      <td>1.396718e+06</td>\n      <td>1.396718e+06</td>\n      <td>1.396718e+06</td>\n      <td>1.396718e+06</td>\n      <td>1.396718e+06</td>\n      <td>1.396718e+06</td>\n      <td>1.396718e+06</td>\n      <td>1.396718e+06</td>\n    </tr>\n    <tr>\n      <th>mean</th>\n      <td>6.983595e+05</td>\n      <td>5.263470e+02</td>\n      <td>2.499745e+00</td>\n      <td>4.779004e+00</td>\n      <td>2.161956e+00</td>\n      <td>2.186646e+00</td>\n      <td>2.817688e+00</td>\n      <td>2.161956e+00</td>\n    </tr>\n    <tr>\n      <th>std</th>\n      <td>4.031979e+05</td>\n      <td>2.806423e+02</td>\n      <td>5.654588e-01</td>\n      <td>2.086811e+00</td>\n      <td>8.310177e-01</td>\n      <td>3.951378e-01</td>\n      <td>1.025974e+00</td>\n      <td>8.310177e-01</td>\n    </tr>\n    <tr>\n      <th>min</th>\n      <td>1.000000e+00</td>\n      <td>0.000000e+00</td>\n      <td>1.000000e+00</td>\n      <td>1.000000e+00</td>\n      <td>1.000000e+00</td>\n      <td>0.000000e+00</td>\n      <td>1.000000e+00</td>\n      <td>1.000000e+00</td>\n    </tr>\n    <tr>\n      <th>25%</th>\n      <td>3.491802e+05</td>\n      <td>3.330000e+02</td>\n      <td>2.000000e+00</td>\n      <td>2.000000e+00</td>\n      <td>1.000000e+00</td>\n      <td>2.000000e+00</td>\n      <td>2.000000e+00</td>\n      <td>1.000000e+00</td>\n    </tr>\n    <tr>\n      <th>50%</th>\n      <td>6.983595e+05</td>\n      <td>5.360000e+02</td>\n      <td>3.000000e+00</td>\n      <td>5.000000e+00</td>\n      <td>2.000000e+00</td>\n      <td>2.000000e+00</td>\n      <td>2.000000e+00</td>\n      <td>2.000000e+00</td>\n    </tr>\n    <tr>\n      <th>75%</th>\n      <td>1.047539e+06</td>\n      <td>7.870000e+02</td>\n      <td>3.000000e+00</td>\n      <td>6.000000e+00</td>\n      <td>3.000000e+00</td>\n      <td>2.000000e+00</td>\n      <td>4.000000e+00</td>\n      <td>3.000000e+00</td>\n    </tr>\n    <tr>\n      <th>max</th>\n      <td>1.396718e+06</td>\n      <td>9.880000e+02</td>\n      <td>3.000000e+00</td>\n      <td>8.000000e+00</td>\n      <td>3.000000e+00</td>\n      <td>4.000000e+00</td>\n      <td>5.000000e+00</td>\n      <td>3.000000e+00</td>\n    </tr>\n  </tbody>\n</table>\n</div>"
     },
     "metadata": {},
     "execution_count": 7
    }
   ],
   "source": [
    "df.describe()"
   ]
  }
 ]
}